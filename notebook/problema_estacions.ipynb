{
  "cells": [
    {
      "cell_type": "code",
      "execution_count": null,
      "metadata": {
        "id": "FsCNl0tLdKtD"
      },
      "outputs": [
        {
          "ename": "",
          "evalue": "",
          "output_type": "error",
          "traceback": [
            "\u001b[1;31mLa ejecución de celdas con '/usr/bin/python3' requiere el paquete ipykernel.\n",
            "\u001b[1;31mRun the following command to install 'ipykernel' into the Python environment. \n",
            "\u001b[1;31mCommand: '/usr/bin/python3 -m pip install ipykernel -U --user --force-reinstall'"
          ]
        }
      ],
      "source": [
        "import pandas as pd\n",
        "import numpy as np\n",
        "import itertools\n",
        "import matplotlib.pyplot as plt\n",
        "from copy import deepcopy, copy\n",
        "from collections import Counter\n",
        "from random import shuffle"
      ]
    },
    {
      "cell_type": "code",
      "execution_count": 313,
      "metadata": {
        "colab": {
          "base_uri": "https://localhost:8080/",
          "height": 206
        },
        "id": "yB1KTVd6dRNz",
        "outputId": "ea310d9e-296b-4170-de21-938890ce7891"
      },
      "outputs": [
        {
          "data": {
            "text/html": [
              "\n",
              "  <div id=\"df-f80999d6-37bd-44bc-88fd-dc58d54a4731\">\n",
              "    <div class=\"colab-df-container\">\n",
              "      <div>\n",
              "<style scoped>\n",
              "    .dataframe tbody tr th:only-of-type {\n",
              "        vertical-align: middle;\n",
              "    }\n",
              "\n",
              "    .dataframe tbody tr th {\n",
              "        vertical-align: top;\n",
              "    }\n",
              "\n",
              "    .dataframe thead th {\n",
              "        text-align: right;\n",
              "    }\n",
              "</style>\n",
              "<table border=\"1\" class=\"dataframe\">\n",
              "  <thead>\n",
              "    <tr style=\"text-align: right;\">\n",
              "      <th></th>\n",
              "      <th>Ruta</th>\n",
              "      <th>Tienda</th>\n",
              "      <th>L</th>\n",
              "      <th>U</th>\n",
              "      <th>Q</th>\n",
              "    </tr>\n",
              "  </thead>\n",
              "  <tbody>\n",
              "    <tr>\n",
              "      <th>0</th>\n",
              "      <td>2001</td>\n",
              "      <td>2508</td>\n",
              "      <td>1</td>\n",
              "      <td>5</td>\n",
              "      <td>1.5</td>\n",
              "    </tr>\n",
              "    <tr>\n",
              "      <th>20</th>\n",
              "      <td>2001</td>\n",
              "      <td>5000</td>\n",
              "      <td>6</td>\n",
              "      <td>15</td>\n",
              "      <td>7.5</td>\n",
              "    </tr>\n",
              "    <tr>\n",
              "      <th>19</th>\n",
              "      <td>2001</td>\n",
              "      <td>4868</td>\n",
              "      <td>5</td>\n",
              "      <td>17</td>\n",
              "      <td>6.7</td>\n",
              "    </tr>\n",
              "    <tr>\n",
              "      <th>18</th>\n",
              "      <td>2001</td>\n",
              "      <td>4867</td>\n",
              "      <td>5</td>\n",
              "      <td>64</td>\n",
              "      <td>11.4</td>\n",
              "    </tr>\n",
              "    <tr>\n",
              "      <th>17</th>\n",
              "      <td>2001</td>\n",
              "      <td>4856</td>\n",
              "      <td>3</td>\n",
              "      <td>33</td>\n",
              "      <td>6.3</td>\n",
              "    </tr>\n",
              "  </tbody>\n",
              "</table>\n",
              "</div>\n",
              "      <button class=\"colab-df-convert\" onclick=\"convertToInteractive('df-f80999d6-37bd-44bc-88fd-dc58d54a4731')\"\n",
              "              title=\"Convert this dataframe to an interactive table.\"\n",
              "              style=\"display:none;\">\n",
              "        \n",
              "  <svg xmlns=\"http://www.w3.org/2000/svg\" height=\"24px\"viewBox=\"0 0 24 24\"\n",
              "       width=\"24px\">\n",
              "    <path d=\"M0 0h24v24H0V0z\" fill=\"none\"/>\n",
              "    <path d=\"M18.56 5.44l.94 2.06.94-2.06 2.06-.94-2.06-.94-.94-2.06-.94 2.06-2.06.94zm-11 1L8.5 8.5l.94-2.06 2.06-.94-2.06-.94L8.5 2.5l-.94 2.06-2.06.94zm10 10l.94 2.06.94-2.06 2.06-.94-2.06-.94-.94-2.06-.94 2.06-2.06.94z\"/><path d=\"M17.41 7.96l-1.37-1.37c-.4-.4-.92-.59-1.43-.59-.52 0-1.04.2-1.43.59L10.3 9.45l-7.72 7.72c-.78.78-.78 2.05 0 2.83L4 21.41c.39.39.9.59 1.41.59.51 0 1.02-.2 1.41-.59l7.78-7.78 2.81-2.81c.8-.78.8-2.07 0-2.86zM5.41 20L4 18.59l7.72-7.72 1.47 1.35L5.41 20z\"/>\n",
              "  </svg>\n",
              "      </button>\n",
              "      \n",
              "  <style>\n",
              "    .colab-df-container {\n",
              "      display:flex;\n",
              "      flex-wrap:wrap;\n",
              "      gap: 12px;\n",
              "    }\n",
              "\n",
              "    .colab-df-convert {\n",
              "      background-color: #E8F0FE;\n",
              "      border: none;\n",
              "      border-radius: 50%;\n",
              "      cursor: pointer;\n",
              "      display: none;\n",
              "      fill: #1967D2;\n",
              "      height: 32px;\n",
              "      padding: 0 0 0 0;\n",
              "      width: 32px;\n",
              "    }\n",
              "\n",
              "    .colab-df-convert:hover {\n",
              "      background-color: #E2EBFA;\n",
              "      box-shadow: 0px 1px 2px rgba(60, 64, 67, 0.3), 0px 1px 3px 1px rgba(60, 64, 67, 0.15);\n",
              "      fill: #174EA6;\n",
              "    }\n",
              "\n",
              "    [theme=dark] .colab-df-convert {\n",
              "      background-color: #3B4455;\n",
              "      fill: #D2E3FC;\n",
              "    }\n",
              "\n",
              "    [theme=dark] .colab-df-convert:hover {\n",
              "      background-color: #434B5C;\n",
              "      box-shadow: 0px 1px 3px 1px rgba(0, 0, 0, 0.15);\n",
              "      filter: drop-shadow(0px 1px 2px rgba(0, 0, 0, 0.3));\n",
              "      fill: #FFFFFF;\n",
              "    }\n",
              "  </style>\n",
              "\n",
              "      <script>\n",
              "        const buttonEl =\n",
              "          document.querySelector('#df-f80999d6-37bd-44bc-88fd-dc58d54a4731 button.colab-df-convert');\n",
              "        buttonEl.style.display =\n",
              "          google.colab.kernel.accessAllowed ? 'block' : 'none';\n",
              "\n",
              "        async function convertToInteractive(key) {\n",
              "          const element = document.querySelector('#df-f80999d6-37bd-44bc-88fd-dc58d54a4731');\n",
              "          const dataTable =\n",
              "            await google.colab.kernel.invokeFunction('convertToInteractive',\n",
              "                                                     [key], {});\n",
              "          if (!dataTable) return;\n",
              "\n",
              "          const docLinkHtml = 'Like what you see? Visit the ' +\n",
              "            '<a target=\"_blank\" href=https://colab.research.google.com/notebooks/data_table.ipynb>data table notebook</a>'\n",
              "            + ' to learn more about interactive tables.';\n",
              "          element.innerHTML = '';\n",
              "          dataTable['output_type'] = 'display_data';\n",
              "          await google.colab.output.renderOutput(dataTable, element);\n",
              "          const docLink = document.createElement('div');\n",
              "          docLink.innerHTML = docLinkHtml;\n",
              "          element.appendChild(docLink);\n",
              "        }\n",
              "      </script>\n",
              "    </div>\n",
              "  </div>\n",
              "  "
            ],
            "text/plain": [
              "    Ruta Tienda  L   U     Q\n",
              "0   2001   2508  1   5   1.5\n",
              "20  2001   5000  6  15   7.5\n",
              "19  2001   4868  5  17   6.7\n",
              "18  2001   4867  5  64  11.4\n",
              "17  2001   4856  3  33   6.3"
            ]
          },
          "execution_count": 313,
          "metadata": {},
          "output_type": "execute_result"
        }
      ],
      "source": [
        "df = pd.read_csv('input.csv', sep=';')\n",
        "df['Q'] = df.Q.str.replace(',', '.').astype(float)\n",
        "df['Tienda'] = df['Tienda'].astype(str)\n",
        "df = df.sort_values('Ruta')\n",
        "df.head()"
      ]
    },
    {
      "cell_type": "code",
      "execution_count": 425,
      "metadata": {
        "colab": {
          "base_uri": "https://localhost:8080/"
        },
        "id": "CykdkvTZdWpi",
        "outputId": "7ba9e7a1-24ff-4a79-ba65-0a8b48d71590"
      },
      "outputs": [
        {
          "name": "stdout",
          "output_type": "stream",
          "text": [
            "37.800000000000004\n"
          ]
        }
      ],
      "source": [
        "num_stations = 5\n",
        "capacity = len(df[['Tienda']].values)//num_stations * 1.05\n",
        "print(capacity)\n",
        "stations_capacity = [capacity]*num_stations\n",
        "stations = [[] for _ in range(num_stations)]\n",
        "costs = {t:q for t,q in df[['Tienda', 'Q']].values}\n",
        "routes = {t:r for t,r in df[['Tienda', 'Ruta']].values}\n",
        "shops = list(df['Tienda'].values)"
      ]
    },
    {
      "cell_type": "code",
      "execution_count": 426,
      "metadata": {
        "id": "EwDDOgptf2CO"
      },
      "outputs": [],
      "source": [
        "def get_station_cost(station):\n",
        "    return sum([costs[shop] for shop in station])\n",
        "\n",
        "def get_station_routes(station):\n",
        "    return set([routes[shop] for shop in station])\n",
        "\n",
        "def get_station_routes_list(station):\n",
        "    return [routes[shop] for shop in station]\n",
        "\n",
        "def get_station_load(station):\n",
        "    return len(station)"
      ]
    },
    {
      "cell_type": "code",
      "execution_count": 427,
      "metadata": {
        "id": "d9x9lqPiesqL"
      },
      "outputs": [],
      "source": [
        "def print_solution(stations):\n",
        "    Q = 0\n",
        "    for i, station in enumerate(stations):\n",
        "        capacity = get_station_load(station)\n",
        "        station_cost = get_station_cost(station)\n",
        "        station_routes = get_station_routes_list(station)\n",
        "        print(f'Station {i+1} ({capacity} shops), sum-Q = {station_cost:.4f}, routes: {Counter(station_routes)}')\n",
        "        Q += station_cost\n",
        "    # print(f'Total sum-Q: {Q}')"
      ]
    },
    {
      "cell_type": "code",
      "execution_count": 428,
      "metadata": {
        "id": "5ZSxz3pQU14C"
      },
      "outputs": [],
      "source": [
        "def get_best_station_for_shop(stations, shop, return_cost=False):\n",
        "    capacities = []\n",
        "    all_station_costs = []\n",
        "    all_station_routes = []\n",
        "    for i, station in enumerate(stations):\n",
        "        station_cost = get_station_cost(station)\n",
        "        station_routes = Counter(get_station_routes_list(station))\n",
        "        count_routes = station_routes[routes[shop]]\n",
        "        routes_score = -(count_routes / (sum(station_routes.values()) + 1)) \n",
        "\n",
        "        all_station_costs.append(station_cost)\n",
        "        all_station_routes.append(routes_score)\n",
        "\n",
        "    scores = np.array(all_station_costs)/5 + (np.array(all_station_routes) * 100)\n",
        "    if return_cost:\n",
        "        return np.argmin(scores), min(scores)\n",
        "    return np.argmin(scores)"
      ]
    },
    {
      "cell_type": "markdown",
      "metadata": {
        "id": "kPkzp3zzdoQt"
      },
      "source": [
        "### Initial solution (heuristic)"
      ]
    },
    {
      "cell_type": "code",
      "execution_count": 429,
      "metadata": {
        "colab": {
          "base_uri": "https://localhost:8080/"
        },
        "id": "1i1lupR7duAr",
        "outputId": "63c803cb-403b-4bd9-a4fd-f271241e738d"
      },
      "outputs": [
        {
          "name": "stdout",
          "output_type": "stream",
          "text": [
            "[[], [], [], [], []]\n",
            "Station 1 (38 shops), sum-Q = 327.6000, routes: Counter({2001: 21, 2002: 17})\n",
            "Station 2 (38 shops), sum-Q = 347.3000, routes: Counter({2003: 22, 2004: 15, 2002: 1})\n",
            "Station 3 (38 shops), sum-Q = 336.7000, routes: Counter({2004: 21, 2005: 17})\n",
            "Station 4 (38 shops), sum-Q = 320.1000, routes: Counter({2007: 19, 2006: 18, 2005: 1})\n",
            "Station 5 (28 shops), sum-Q = 253.0000, routes: Counter({2008: 20, 2007: 8})\n"
          ]
        },
        {
          "data": {
            "text/plain": [
              "124.3003285833907"
            ]
          },
          "execution_count": 429,
          "metadata": {},
          "output_type": "execute_result"
        }
      ],
      "source": [
        "current = 0\n",
        "stations = [[] for _ in range(num_stations)]\n",
        "print(stations)\n",
        "for shop in shops:\n",
        "    if len(stations[current]) < stations_capacity[current]:\n",
        "        stations[current].append(shop) # Insert shop to current station\n",
        "    else:\n",
        "        current += 1\n",
        "        if current >= len(stations):\n",
        "            print('Missing shops to assign!')\n",
        "            break\n",
        "        stations[current].append(shop)\n",
        "    \n",
        "assert list(sorted(list(itertools.chain(*stations)))) == list(sorted(shops))\n",
        "\n",
        "print_solution(stations)\n",
        "solution_cost(stations, weights=weights)"
      ]
    },
    {
      "cell_type": "code",
      "execution_count": 431,
      "metadata": {
        "colab": {
          "base_uri": "https://localhost:8080/"
        },
        "id": "GGXEGIlxW6AZ",
        "outputId": "758c533e-4a38-4d69-a5fd-e361015a4455"
      },
      "outputs": [
        {
          "name": "stdout",
          "output_type": "stream",
          "text": [
            "0 96.31286664984518\n",
            "1 76.0487932497551\n",
            "8 74.33449747346529\n",
            "18 58.53239474901088\n",
            "161 37.936913966719494\n",
            "Station 1 (37 shops), sum-Q = 324.3000, routes: Counter({2001: 19, 2006: 18})\n",
            "Station 2 (36 shops), sum-Q = 326.9000, routes: Counter({2004: 36})\n",
            "Station 3 (40 shops), sum-Q = 322.1000, routes: Counter({2003: 22, 2002: 18})\n",
            "Station 4 (29 shops), sum-Q = 272.9000, routes: Counter({2007: 27, 2001: 2})\n",
            "Station 5 (38 shops), sum-Q = 338.5000, routes: Counter({2008: 20, 2005: 18})\n"
          ]
        }
      ],
      "source": [
        "min_sol_cost = 100000000000\n",
        "min_solution = None\n",
        "for k in range(1000):\n",
        "    stations = [[] for _ in range(num_stations)]\n",
        "    shops_shuffled = deepcopy(shops)\n",
        "    shuffle(shops_shuffled)\n",
        "    for shop in shops_shuffled:\n",
        "        i = get_best_station_for_shop(stations, shop)\n",
        "        stations[i].append(shop) # Insert shop to current station\n",
        "        \n",
        "    assert list(sorted(list(itertools.chain(*stations)))) == list(sorted(shops))\n",
        "\n",
        "\n",
        "    # print_solution(stations)\n",
        "    cost = solution_cost(stations, weights=weights)\n",
        "    if cost < min_sol_cost:\n",
        "        print(k, cost)\n",
        "        min_sol_cost = cost\n",
        "        min_solution = deepcopy(stations)\n",
        "stations = min_solution\n",
        "print_solution(stations)"
      ]
    },
    {
      "cell_type": "markdown",
      "metadata": {
        "id": "zmtLX9YXj5Gc"
      },
      "source": [
        "## Metaheuristic"
      ]
    },
    {
      "cell_type": "code",
      "execution_count": 432,
      "metadata": {
        "id": "toj95FC2ioy-"
      },
      "outputs": [],
      "source": [
        "\"\"\"Metaheuristic functions\"\"\"\n",
        "\n",
        "def rand(min_val, max_val):\n",
        "    return np.random.randint(min_val, max_val)\n",
        "\n",
        "def check_is_valid_solution(stations):\n",
        "    concat_stations = np.array(list(itertools.chain(*stations)))\n",
        "    return len(concat_stations) == len(shops) and \\\n",
        "           all(np.array(sorted(concat_stations)) == np.array(sorted(shops)))\n",
        "\n",
        "def get_solution_dispersion(stations):\n",
        "    station_routes = [get_station_routes_list(s) for s in stations]\n",
        "    # print(station_routes)\n",
        "    dispersion = 0\n",
        "    route_dispersion = 0\n",
        "    for i, sr1 in enumerate(station_routes):\n",
        "        for j, sr2 in enumerate(station_routes): \n",
        "            if i != j:\n",
        "                overlapped = set(sr1)&set(sr2)\n",
        "                dispersion = len(overlapped)\n",
        "                o1 = [s for s in sr1 if s in sr2]\n",
        "                o2 = [s for s in sr2 if s in sr1]\n",
        "                route_dispersion += min(len(o1), len(o2))\n",
        "    return route_dispersion\n",
        "\n",
        "def solution_cost(stations, weights=None, verbose=False):\n",
        "    a, b, c = 1, 0, 5\n",
        "    exp_a = 1.15#.525\n",
        "    exp_b = 1.1#2#.525\n",
        "    if weights:\n",
        "        a, b, c = weights\n",
        "    all_costs = np.array([get_station_cost(s) for s in stations])\n",
        "    expected_cost_q = sum(all_costs)/num_stations\n",
        "    cost_q = ((np.sqrt((all_costs-expected_cost_q)**2)**exp_a).mean())\n",
        "\n",
        "    all_capacities = np.array([get_station_load(s) for s in stations])\n",
        "    expected_balance = sum(all_capacities)/num_stations\n",
        "    cost_balance = ((all_capacities-expected_balance)**2).mean()\n",
        "\n",
        "    route_dispersion = get_solution_dispersion(stations)\n",
        "    # total_cost = a*cost_q + (b*cost_balance+1) * (c*(route_dispersion**2)+1)\n",
        "    total_cost = (a*cost_q + 1) * (c*(route_dispersion**exp_b)+1)\n",
        "    total_cost = (a*cost_q + 1) + (c*(route_dispersion**exp_b)+1)\n",
        "    if verbose:\n",
        "        print('\\t', f'{cost_q**(1/exp_a):.2f}', int(cost_balance), int(route_dispersion))\n",
        "        print('\\t', f'{a*cost_q:.2f}', int(b*cost_balance), int(c*route_dispersion**exp_b), f'Total: {total_cost:.2f}')\n",
        "    return total_cost\n",
        "\n",
        "def swap_shops(stations, i, j):\n",
        "    s1 = stations[i]\n",
        "    s2 = stations[j]\n",
        "    if len(s1) == 0 or len(s2) == 0:\n",
        "        return stations\n",
        "    k1 = rand(0, len(s1))\n",
        "    k2 = rand(0, len(s2))\n",
        "    s1[k1], s2[k2] = s2[k2], s1[k1]\n",
        "    return stations\n",
        "\n",
        "def three_swap_shops(stations, i, j, k):\n",
        "    if len(stations) < 3:\n",
        "        return stations\n",
        "    s1 = stations[i]\n",
        "    s2 = stations[j]\n",
        "    s3 = stations[k]\n",
        "    if len(s1) == 0 or len(s2) == 0 or len(s3) == 0 or len(set([i,j,k])) < 3:\n",
        "        return stations\n",
        "    x1, x2, x3 = rand(0, len(s1)), rand(0, len(s2)), rand(0, len(s3))\n",
        "    p2, p3, p1 = copy(s2[x2]), copy(s3[x3]), copy(s1[x1])\n",
        "    s1[x1]= p2\n",
        "    s2[x2] = p3\n",
        "    s3[x3] = p1\n",
        "    return stations\n",
        "    \n",
        "def move_shop(stations, i, j):\n",
        "    s1 = stations[i]\n",
        "    s2 = stations[j]\n",
        "    if len(s1) == 0:\n",
        "        return stations\n",
        "    # k = np.argmin([get_best_station_for_shop(stations, s, return_cost=True)[1] for s in s1])\n",
        "\n",
        "    k = rand(0, len(s1))\n",
        "    shop = s1[k]\n",
        "    del s1[k]\n",
        "    s2.append(shop)\n",
        "    return stations"
      ]
    },
    {
      "cell_type": "code",
      "execution_count": 433,
      "metadata": {
        "colab": {
          "base_uri": "https://localhost:8080/"
        },
        "id": "-1XCu4rJjIc5",
        "outputId": "a9eec336-dc26-4cf3-8988-3de551e52d83"
      },
      "outputs": [
        {
          "name": "stdout",
          "output_type": "stream",
          "text": [
            "it 1. Improved cost [MOVE]: 40.22247673895116\n",
            "\t 18.26 15 6\n",
            "\t 31.05 0 7 Total: 40.22\n",
            "it 8. Improved cost [MOVE]: 40.15094401529433\n",
            "\t 16.84 12 8\n",
            "\t 28.30 0 9 Total: 40.15\n",
            "it 24. Improved cost [MOVE]: 37.31068343092703\n",
            "\t 13.92 10 10\n",
            "\t 22.72 0 12 Total: 37.31\n",
            "it 25. Improved cost [MOVE]: 36.64342305490641\n",
            "\t 12.05 6 12\n",
            "\t 19.26 0 15 Total: 36.64\n",
            "it 65. Improved cost [MOVE]: 32.119589930013156\n",
            "\t 7.92 3 14\n",
            "\t 11.89 0 18 Total: 32.12\n",
            "it 69. Improved cost [MOVE]: 29.77260237804687\n",
            "\t 4.79 2 16\n",
            "\t 6.66 0 21 Total: 29.77\n",
            "it 74. Improved cost [SWAP]: 29.77260237804685\n",
            "\t 4.79 2 16\n",
            "\t 6.66 0 21 Total: 29.77\n",
            "it 100. Improved cost [MOVE]: 29.772602378046837\n",
            "\t 4.79 2 16\n",
            "\t 6.66 0 21 Total: 29.77\n",
            "it 198. Improved cost [SWAP]: 29.09230750135125\n",
            "\t 4.36 2 16\n",
            "\t 5.98 0 21 Total: 29.09\n",
            "it 236. Improved cost [SWAP]: 28.916536401310907\n",
            "\t 4.25 2 16\n",
            "\t 5.80 0 21 Total: 28.92\n",
            "it 320. Improved cost [SWAP]: 28.916536401310893\n",
            "\t 4.25 2 16\n",
            "\t 5.80 0 21 Total: 28.92\n",
            "it 327. Improved cost [SWAP]: 28.91653640131088\n",
            "\t 4.25 2 16\n",
            "\t 5.80 0 21 Total: 28.92\n",
            "it 390. Improved cost [MOVE]: 28.422299028704835\n",
            "\t 1.96 2 18\n",
            "\t 2.39 0 24 Total: 28.42\n",
            "it 416. Improved cost [SWAP]: 28.422299028704817\n",
            "\t 1.96 2 18\n",
            "\t 2.39 0 24 Total: 28.42\n",
            "it 490. Improved cost [SWAP]: 28.40728696879042\n",
            "\t 1.95 2 18\n",
            "\t 2.37 0 24 Total: 28.41\n",
            "it 510. Improved cost [MOVE]: 28.4072869687904\n",
            "\t 1.95 2 18\n",
            "\t 2.37 0 24 Total: 28.41\n",
            "it 580. Improved cost [SWAP]: 28.407286968790388\n",
            "\t 1.95 2 18\n",
            "\t 2.37 0 24 Total: 28.41\n",
            "it 1216. Improved cost [SWAP]: 28.14375005183839\n",
            "\t 1.76 2 18\n",
            "\t 2.11 0 24 Total: 28.14\n",
            "it 1422. Improved cost [MOVE]: 28.143750051838385\n",
            "\t 1.76 2 18\n",
            "\t 2.11 0 24 Total: 28.14\n",
            "it 1529. Improved cost [SWAP]: 27.215009006985074\n",
            "\t 1.06 2 18\n",
            "\t 1.18 0 24 Total: 27.22\n",
            "it 1756. Improved cost [MOVE]: 25.926724321336117\n",
            "\t 2.26 2 16\n",
            "\t 2.81 0 21 Total: 25.93\n",
            "it 1769. Improved cost [SWAP]: 25.9267243213361\n",
            "\t 2.26 2 16\n",
            "\t 2.81 0 21 Total: 25.93\n",
            "it 1965. Improved cost [MOVE]: 25.92672432133608\n",
            "\t 2.26 2 16\n",
            "\t 2.81 0 21 Total: 25.93\n",
            "it 2382. Improved cost [SWAP]: 25.92672432133607\n",
            "\t 2.26 2 16\n",
            "\t 2.81 0 21 Total: 25.93\n",
            "it 2653. Improved cost [SWAP]: 25.895747384935035\n",
            "\t 2.24 2 16\n",
            "\t 2.78 0 21 Total: 25.90\n",
            "it 3438. Improved cost [MOVE]: 24.973318870245066\n",
            "\t 3.56 5 14\n",
            "\t 4.75 0 18 Total: 24.97\n",
            "it 3439. Improved cost [SWAP]: 24.93783788180652\n",
            "\t 3.54 5 14\n",
            "\t 4.71 0 18 Total: 24.94\n",
            "it 3473. Improved cost [MOVE]: 24.9378378818065\n",
            "\t 3.54 5 14\n",
            "\t 4.71 0 18 Total: 24.94\n",
            "it 3577. Improved cost [SWAP]: 24.893011160442335\n",
            "\t 3.51 5 14\n",
            "\t 4.66 0 18 Total: 24.89\n",
            "it 3583. Improved cost [MOVE]: 24.89301116044232\n",
            "\t 3.51 5 14\n",
            "\t 4.66 0 18 Total: 24.89\n",
            "it 3797. Improved cost [SWAP]: 22.708265703660345\n",
            "\t 2.03 5 14\n",
            "\t 2.48 0 18 Total: 22.71\n",
            "it 3886. Improved cost [MOVE]: 22.70826570366033\n",
            "\t 2.03 5 14\n",
            "\t 2.48 0 18 Total: 22.71\n",
            "it 4272. Improved cost [SWAP]: 22.708265703660317\n",
            "\t 2.03 5 14\n",
            "\t 2.48 0 18 Total: 22.71\n",
            "it 4280. Improved cost [MOVE]: 20.822002846446956\n",
            "\t 2.69 6 12\n",
            "\t 3.44 0 15 Total: 20.82\n",
            "it 4306. Improved cost [MOVE]: 20.822002846446892\n",
            "\t 2.69 6 12\n",
            "\t 3.44 0 15 Total: 20.82\n",
            "it 4334. Improved cost [SWAP]: 20.82200284644688\n",
            "\t 2.69 6 12\n",
            "\t 3.44 0 15 Total: 20.82\n",
            "it 4376. Improved cost [SWAP]: 20.822002846446864\n",
            "\t 2.69 6 12\n",
            "\t 3.44 0 15 Total: 20.82\n",
            "it 4637. Improved cost [SWAP]: 20.359224874735084\n",
            "\t 2.37 6 12\n",
            "\t 2.97 0 15 Total: 20.36\n",
            "it 4643. Improved cost [MOVE]: 20.35922487473507\n",
            "\t 2.37 6 12\n",
            "\t 2.97 0 15 Total: 20.36\n",
            "it 7865. Improved cost [SWAP]: 20.30319386344788\n",
            "\t 2.34 6 12\n",
            "\t 2.92 0 15 Total: 20.30\n",
            "it 9792. Improved cost [SWAP]: 19.780029123684418\n",
            "\t 1.97 6 12\n",
            "\t 2.39 0 15 Total: 19.78\n",
            "it 9813. Improved cost [SWAP]: 19.780029123684407\n",
            "\t 1.97 6 12\n",
            "\t 2.39 0 15 Total: 19.78\n",
            "it 10008. Improved cost [MOVE]: 19.78002912368439\n",
            "\t 1.97 6 12\n",
            "\t 2.39 0 15 Total: 19.78\n",
            "it 10053. Improved cost [MOVE]: 19.780029123684375\n",
            "\t 1.97 6 12\n",
            "\t 2.39 0 15 Total: 19.78\n",
            "it 10884. Improved cost [SWAP]: 19.780029123684372\n",
            "\t 1.97 6 12\n",
            "\t 2.39 0 15 Total: 19.78\n",
            "it 11212. Improved cost [MOVE]: 19.78002912368436\n",
            "\t 1.97 6 12\n",
            "\t 2.39 0 15 Total: 19.78\n",
            "it 11679. Improved cost [SWAP]: 19.780029123684347\n",
            "\t 1.97 6 12\n",
            "\t 2.39 0 15 Total: 19.78\n",
            "it 12893. Improved cost [SWAP]: 19.638946128818045\n",
            "\t 1.87 6 12\n",
            "\t 2.25 0 15 Total: 19.64\n",
            "it 12919. Improved cost [MOVE]: 19.638946128818027\n",
            "\t 1.87 6 12\n",
            "\t 2.25 0 15 Total: 19.64\n",
            "it 12921. Improved cost [SWAP]: 18.905073798510504\n",
            "\t 1.32 6 12\n",
            "\t 1.52 0 15 Total: 18.91\n",
            "it 13118. Improved cost [MOVE]: 18.905073798510497\n",
            "\t 1.32 6 12\n",
            "\t 1.52 0 15 Total: 18.91\n",
            "it 13162. Improved cost [SWAP]: 18.894742884393885\n",
            "\t 1.32 6 12\n",
            "\t 1.51 0 15 Total: 18.89\n",
            "it 13384. Improved cost [SWAP]: 18.894742884393875\n",
            "\t 1.32 6 12\n",
            "\t 1.51 0 15 Total: 18.89\n",
            "it 13565. Improved cost [SWAP]: 18.871160592368053\n",
            "\t 1.30 6 12\n",
            "\t 1.49 0 15 Total: 18.87\n",
            "it 13809. Improved cost [MOVE]: 18.87116059236804\n",
            "\t 1.30 6 12\n",
            "\t 1.49 0 15 Total: 18.87\n",
            "it 13967. Improved cost [MOVE]: 18.871160592368028\n",
            "\t 1.30 6 12\n",
            "\t 1.49 0 15 Total: 18.87\n",
            "it 14282. Improved cost [SWAP]: 18.417839027874628\n",
            "\t 0.95 6 12\n",
            "\t 1.03 0 15 Total: 18.42\n",
            "it 14301. Improved cost [SWAP]: 18.417839027874603\n",
            "\t 0.95 6 12\n",
            "\t 1.03 0 15 Total: 18.42\n",
            "it 14348. Improved cost [MOVE]: 18.41783902787459\n",
            "\t 0.95 6 12\n",
            "\t 1.03 0 15 Total: 18.42\n",
            "it 16285. Improved cost [SWAP]: 18.417839027874578\n",
            "\t 0.95 6 12\n",
            "\t 1.03 0 15 Total: 18.42\n",
            "it 17219. Improved cost [SWAP]: 18.417839027874574\n",
            "\t 0.95 6 12\n",
            "\t 1.03 0 15 Total: 18.42\n",
            "it 18886. Improved cost [SWAP]: 18.318559128120334\n",
            "\t 0.87 6 12\n",
            "\t 0.93 0 15 Total: 18.32\n",
            "it 18963. Improved cost [MOVE]: 18.31855912812032\n",
            "\t 0.87 6 12\n",
            "\t 0.93 0 15 Total: 18.32\n",
            "it 19452. Improved cost [SWAP]: 18.318559128120306\n",
            "\t 0.87 6 12\n",
            "\t 0.93 0 15 Total: 18.32\n",
            "it 19669. Improved cost [SWAP]: 18.060988405599044\n",
            "\t 0.65 6 12\n",
            "\t 0.68 0 15 Total: 18.06\n",
            "it 19739. Improved cost [MOVE]: 18.060988405599026\n",
            "\t 0.65 6 12\n",
            "\t 0.68 0 15 Total: 18.06\n",
            "it 20003. Improved cost [SWAP]: 18.060988405599012\n",
            "\t 0.65 6 12\n",
            "\t 0.68 0 15 Total: 18.06\n",
            "it 21399. Improved cost [SWAP]: 18.060988405598998\n",
            "\t 0.65 6 12\n",
            "\t 0.68 0 15 Total: 18.06\n",
            "it 25668. Improved cost [SWAP]: 18.060988405598952\n",
            "\t 0.65 6 12\n",
            "\t 0.68 0 15 Total: 18.06\n"
          ]
        }
      ],
      "source": [
        "\n",
        "curr_solution = stations\n",
        "curr_cost = solution_cost(curr_solution)\n",
        "history = [curr_cost]\n",
        "operator_names = ['MOVE', 'SWAP', '3-SWAP']\n",
        "K = 30000\n",
        "weights = (1.1,0,1)\n",
        "for iteration in range(K):\n",
        "    # if iteration == K//2: \n",
        "    #     weights=(1,0,10)\n",
        "    #     curr_cost = solution_cost(new_solution, weights=weights)\n",
        "    new_solution = deepcopy(curr_solution)\n",
        "    i = rand(0, num_stations)\n",
        "    j = rand(0, num_stations)\n",
        "    operation = rand(0,2)\n",
        "    if operation == 0:\n",
        "        new_solution = move_shop(new_solution, i, j)\n",
        "    elif operation == 1:\n",
        "        new_solution = swap_shops(new_solution, i, j)       \n",
        "    else: \n",
        "        k = rand(0, num_stations)\n",
        "        new_solution = three_swap_shops(new_solution, i, j, k)       \n",
        "    \n",
        "    new_cost = solution_cost(new_solution, weights=weights)\n",
        "    if new_cost < curr_cost:\n",
        "        print(f'it {iteration}. Improved cost [{operator_names[operation]}]: {new_cost}')\n",
        "        solution_cost(new_solution, weights=weights, verbose=True)\n",
        "        assert check_is_valid_solution(new_solution)\n",
        "        curr_solution = new_solution\n",
        "        curr_cost = new_cost\n",
        "    history.append(curr_cost)\n",
        "best_solution = curr_solution"
      ]
    },
    {
      "cell_type": "code",
      "execution_count": 434,
      "metadata": {
        "colab": {
          "base_uri": "https://localhost:8080/"
        },
        "id": "bn2Q-BpEmf4R",
        "outputId": "753b1055-30a3-43d8-d856-d159391c4323"
      },
      "outputs": [
        {
          "name": "stdout",
          "output_type": "stream",
          "text": [
            "Station 1 (37 shops), sum-Q = 316.4000, routes: Counter({2001: 19, 2006: 18})\n",
            "Station 2 (35 shops), sum-Q = 316.3000, routes: Counter({2004: 35})\n",
            "Station 3 (40 shops), sum-Q = 316.6000, routes: Counter({2003: 22, 2002: 17, 2008: 1})\n",
            "Station 4 (32 shops), sum-Q = 316.9000, routes: Counter({2007: 27, 2001: 2, 2002: 1, 2004: 1, 2005: 1})\n",
            "Station 5 (36 shops), sum-Q = 318.5000, routes: Counter({2008: 19, 2005: 17})\n",
            "6\n"
          ]
        },
        {
          "data": {
            "text/plain": [
              "18.060988405598952"
            ]
          },
          "execution_count": 434,
          "metadata": {},
          "output_type": "execute_result"
        }
      ],
      "source": [
        "print_solution(best_solution)\n",
        "print(get_solution_dispersion(best_solution)//2)\n",
        "solution_cost(best_solution, weights=weights)"
      ]
    },
    {
      "cell_type": "code",
      "execution_count": 435,
      "metadata": {
        "colab": {
          "base_uri": "https://localhost:8080/"
        },
        "id": "50_QW8ElDv8Q",
        "outputId": "d37a33e2-c4a5-4146-bc42-3b6ad2e5e74e"
      },
      "outputs": [
        {
          "name": "stdout",
          "output_type": "stream",
          "text": [
            "\t 2.30 6 14\n",
            "\t 2.86 0 18 Total: 23.09\n"
          ]
        },
        {
          "data": {
            "text/plain": [
              "23.08892340756155"
            ]
          },
          "execution_count": 435,
          "metadata": {},
          "output_type": "execute_result"
        }
      ],
      "source": [
        "solution_cost(new_solution, weights=weights, verbose=True)"
      ]
    },
    {
      "cell_type": "markdown",
      "metadata": {
        "id": "LibW7LkNtUux"
      },
      "source": [
        "#### Execution visualization"
      ]
    },
    {
      "cell_type": "code",
      "execution_count": 436,
      "metadata": {
        "colab": {
          "base_uri": "https://localhost:8080/",
          "height": 404
        },
        "id": "Gd7oCplhm2tg",
        "outputId": "4152f32f-00f7-4e5a-99a2-8debf7dc8cb8"
      },
      "outputs": [
        {
          "data": {
            "image/png": "[encoded data removed]",
            "text/plain": [
              "<Figure size 720x432 with 1 Axes>"
            ]
          },
          "metadata": {
            "needs_background": "light"
          },
          "output_type": "display_data"
        }
      ],
      "source": [
        "f, ax = plt.subplots(figsize=(10,6))\n",
        "ax.plot(history[:20000])\n",
        "ax.set_yscale('log')\n",
        "ax.set_ylabel('Solution cost (log-scale)')\n",
        "ax.set_xlabel('Iteration')\n",
        "ax.set_title('Evolution of the solution cost along algorithm iterations')\n",
        "plt.show()"
      ]
    },
    {
      "cell_type": "markdown",
      "metadata": {
        "id": "3i7py4rHMQSd"
      },
      "source": [
        "#### Export result"
      ]
    },
    {
      "cell_type": "code",
      "execution_count": 437,
      "metadata": {
        "id": "v6LZprdgMgmu"
      },
      "outputs": [],
      "source": [
        "df['station'] = 0\n",
        "for i, station in enumerate(best_solution):\n",
        "    for shop in station:\n",
        "        df.loc[df['Tienda'] == shop, 'station'] = i+1\n",
        "        # print(i, shop, costs[shop])"
      ]
    },
    {
      "cell_type": "code",
      "execution_count": 438,
      "metadata": {
        "id": "8CodP0zrNI8O"
      },
      "outputs": [],
      "source": [
        "df.to_csv('output.csv', sep=';', decimal=',')"
      ]
    },
    {
      "cell_type": "code",
      "execution_count": 439,
      "metadata": {
        "colab": {
          "base_uri": "https://localhost:8080/",
          "height": 206
        },
        "id": "whG__kbnNLgt",
        "outputId": "d33068a8-f8dd-452c-809f-06a36d2d6f2f"
      },
      "outputs": [
        {
          "data": {
            "text/html": [
              "\n",
              "  <div id=\"df-b2086286-45bc-4e48-a49e-25e80ef5d710\">\n",
              "    <div class=\"colab-df-container\">\n",
              "      <div>\n",
              "<style scoped>\n",
              "    .dataframe tbody tr th:only-of-type {\n",
              "        vertical-align: middle;\n",
              "    }\n",
              "\n",
              "    .dataframe tbody tr th {\n",
              "        vertical-align: top;\n",
              "    }\n",
              "\n",
              "    .dataframe thead th {\n",
              "        text-align: right;\n",
              "    }\n",
              "</style>\n",
              "<table border=\"1\" class=\"dataframe\">\n",
              "  <thead>\n",
              "    <tr style=\"text-align: right;\">\n",
              "      <th></th>\n",
              "      <th>Ruta</th>\n",
              "      <th>Tienda</th>\n",
              "      <th>L</th>\n",
              "      <th>U</th>\n",
              "      <th>Q</th>\n",
              "      <th>station</th>\n",
              "    </tr>\n",
              "  </thead>\n",
              "  <tbody>\n",
              "    <tr>\n",
              "      <th>0</th>\n",
              "      <td>2001</td>\n",
              "      <td>2508</td>\n",
              "      <td>1</td>\n",
              "      <td>5</td>\n",
              "      <td>1.5</td>\n",
              "      <td>1</td>\n",
              "    </tr>\n",
              "    <tr>\n",
              "      <th>20</th>\n",
              "      <td>2001</td>\n",
              "      <td>5000</td>\n",
              "      <td>6</td>\n",
              "      <td>15</td>\n",
              "      <td>7.5</td>\n",
              "      <td>1</td>\n",
              "    </tr>\n",
              "    <tr>\n",
              "      <th>19</th>\n",
              "      <td>2001</td>\n",
              "      <td>4868</td>\n",
              "      <td>5</td>\n",
              "      <td>17</td>\n",
              "      <td>6.7</td>\n",
              "      <td>1</td>\n",
              "    </tr>\n",
              "    <tr>\n",
              "      <th>18</th>\n",
              "      <td>2001</td>\n",
              "      <td>4867</td>\n",
              "      <td>5</td>\n",
              "      <td>64</td>\n",
              "      <td>11.4</td>\n",
              "      <td>1</td>\n",
              "    </tr>\n",
              "    <tr>\n",
              "      <th>17</th>\n",
              "      <td>2001</td>\n",
              "      <td>4856</td>\n",
              "      <td>3</td>\n",
              "      <td>33</td>\n",
              "      <td>6.3</td>\n",
              "      <td>1</td>\n",
              "    </tr>\n",
              "  </tbody>\n",
              "</table>\n",
              "</div>\n",
              "      <button class=\"colab-df-convert\" onclick=\"convertToInteractive('df-b2086286-45bc-4e48-a49e-25e80ef5d710')\"\n",
              "              title=\"Convert this dataframe to an interactive table.\"\n",
              "              style=\"display:none;\">\n",
              "        \n",
              "  <svg xmlns=\"http://www.w3.org/2000/svg\" height=\"24px\"viewBox=\"0 0 24 24\"\n",
              "       width=\"24px\">\n",
              "    <path d=\"M0 0h24v24H0V0z\" fill=\"none\"/>\n",
              "    <path d=\"M18.56 5.44l.94 2.06.94-2.06 2.06-.94-2.06-.94-.94-2.06-.94 2.06-2.06.94zm-11 1L8.5 8.5l.94-2.06 2.06-.94-2.06-.94L8.5 2.5l-.94 2.06-2.06.94zm10 10l.94 2.06.94-2.06 2.06-.94-2.06-.94-.94-2.06-.94 2.06-2.06.94z\"/><path d=\"M17.41 7.96l-1.37-1.37c-.4-.4-.92-.59-1.43-.59-.52 0-1.04.2-1.43.59L10.3 9.45l-7.72 7.72c-.78.78-.78 2.05 0 2.83L4 21.41c.39.39.9.59 1.41.59.51 0 1.02-.2 1.41-.59l7.78-7.78 2.81-2.81c.8-.78.8-2.07 0-2.86zM5.41 20L4 18.59l7.72-7.72 1.47 1.35L5.41 20z\"/>\n",
              "  </svg>\n",
              "      </button>\n",
              "      \n",
              "  <style>\n",
              "    .colab-df-container {\n",
              "      display:flex;\n",
              "      flex-wrap:wrap;\n",
              "      gap: 12px;\n",
              "    }\n",
              "\n",
              "    .colab-df-convert {\n",
              "      background-color: #E8F0FE;\n",
              "      border: none;\n",
              "      border-radius: 50%;\n",
              "      cursor: pointer;\n",
              "      display: none;\n",
              "      fill: #1967D2;\n",
              "      height: 32px;\n",
              "      padding: 0 0 0 0;\n",
              "      width: 32px;\n",
              "    }\n",
              "\n",
              "    .colab-df-convert:hover {\n",
              "      background-color: #E2EBFA;\n",
              "      box-shadow: 0px 1px 2px rgba(60, 64, 67, 0.3), 0px 1px 3px 1px rgba(60, 64, 67, 0.15);\n",
              "      fill: #174EA6;\n",
              "    }\n",
              "\n",
              "    [theme=dark] .colab-df-convert {\n",
              "      background-color: #3B4455;\n",
              "      fill: #D2E3FC;\n",
              "    }\n",
              "\n",
              "    [theme=dark] .colab-df-convert:hover {\n",
              "      background-color: #434B5C;\n",
              "      box-shadow: 0px 1px 3px 1px rgba(0, 0, 0, 0.15);\n",
              "      filter: drop-shadow(0px 1px 2px rgba(0, 0, 0, 0.3));\n",
              "      fill: #FFFFFF;\n",
              "    }\n",
              "  </style>\n",
              "\n",
              "      <script>\n",
              "        const buttonEl =\n",
              "          document.querySelector('#df-b2086286-45bc-4e48-a49e-25e80ef5d710 button.colab-df-convert');\n",
              "        buttonEl.style.display =\n",
              "          google.colab.kernel.accessAllowed ? 'block' : 'none';\n",
              "\n",
              "        async function convertToInteractive(key) {\n",
              "          const element = document.querySelector('#df-b2086286-45bc-4e48-a49e-25e80ef5d710');\n",
              "          const dataTable =\n",
              "            await google.colab.kernel.invokeFunction('convertToInteractive',\n",
              "                                                     [key], {});\n",
              "          if (!dataTable) return;\n",
              "\n",
              "          const docLinkHtml = 'Like what you see? Visit the ' +\n",
              "            '<a target=\"_blank\" href=https://colab.research.google.com/notebooks/data_table.ipynb>data table notebook</a>'\n",
              "            + ' to learn more about interactive tables.';\n",
              "          element.innerHTML = '';\n",
              "          dataTable['output_type'] = 'display_data';\n",
              "          await google.colab.output.renderOutput(dataTable, element);\n",
              "          const docLink = document.createElement('div');\n",
              "          docLink.innerHTML = docLinkHtml;\n",
              "          element.appendChild(docLink);\n",
              "        }\n",
              "      </script>\n",
              "    </div>\n",
              "  </div>\n",
              "  "
            ],
            "text/plain": [
              "    Ruta Tienda  L   U     Q  station\n",
              "0   2001   2508  1   5   1.5        1\n",
              "20  2001   5000  6  15   7.5        1\n",
              "19  2001   4868  5  17   6.7        1\n",
              "18  2001   4867  5  64  11.4        1\n",
              "17  2001   4856  3  33   6.3        1"
            ]
          },
          "execution_count": 439,
          "metadata": {},
          "output_type": "execute_result"
        }
      ],
      "source": [
        "df.head()"
      ]
    },
    {
      "cell_type": "code",
      "execution_count": 440,
      "metadata": {
        "colab": {
          "base_uri": "https://localhost:8080/"
        },
        "id": "W9fkp_sbNj3m",
        "outputId": "db65baef-461b-4d79-9095-05d55525b076"
      },
      "outputs": [
        {
          "data": {
            "text/plain": [
              "array([list(['3922', '4001', '2750', '3421', '3314', '3489', '2508', '4856', '4511', '4982', '4663', '4868', '4098', '4847', '2684', '4584', '4833', '5235', '2654', '4326', '2872', '3825', '4647', '3883', '4065', '5081', '5000', '3806', '2777', '2868', '4278', '3425', '5039', '5083', '4304', '3907', '4867']),\n",
              "       list(['5077', '3290', '4028', '3917', '3889', '2747', '3810', '4284', '3969', '2919', '4321', '2542', '3812', '5053', '4069', '2529', '2731', '5299', '2817', '3067', '2473', '4234', '5015', '4020', '3344', '4505', '4795', '4544', '2884', '4448', '2743', '4952', '4161', '3887', '2845']),\n",
              "       list(['3572', '3278', '4924', '4154', '2564', '4506', '3044', '3429', '4136', '4252', '3048', '5153', '2770', '4609', '4527', '3047', '4748', '5155', '2899', '4590', '4646', '5056', '2551', '3501', '4879', '3598', '4077', '4559', '5115', '4205', '5244', '2954', '4886', '4431', '4274', '3656', '2715', '3836', '3911', '3584']),\n",
              "       list(['4456', '4076', '3867', '2547', '3957', '2711', '4885', '3074', '2497', '2486', '2618', '2514', '4788', '2772', '4162', '2904', '5208', '2548', '2818', '2487', '4606', '5248', '4097', '4516', '2587', '2718', '4966', '3993', '4393', '4765', '2573', '3075']),\n",
              "       list(['4574', '3962', '3066', '2708', '2746', '4198', '2631', '2741', '3851', '2652', '2588', '2498', '2830', '4888', '3854', '2822', '2685', '2729', '3009', '4566', '2494', '2534', '4790', '3831', '3835', '2623', '2566', '4174', '3620', '2626', '3973', '5084', '2831', '3833', '3862', '2584'])],\n",
              "      dtype=object)"
            ]
          },
          "execution_count": 440,
          "metadata": {},
          "output_type": "execute_result"
        }
      ],
      "source": [
        "np.array(best_solution, dtype=object)"
      ]
    },
    {
      "cell_type": "code",
      "execution_count": null,
      "metadata": {
        "id": "iQnH6EOrYjyu"
      },
      "outputs": [],
      "source": []
    }
  ],
  "metadata": {
    "colab": {
      "provenance": []
    },
    "kernelspec": {
      "display_name": "Python 3",
      "name": "python3"
    },
    "language_info": {
      "codemirror_mode": {
        "name": "ipython",
        "version": 3
      },
      "file_extension": ".py",
      "mimetype": "text/x-python",
      "name": "python",
      "nbconvert_exporter": "python",
      "pygments_lexer": "ipython3",
      "version": "3.9.2"
    }
  },
  "nbformat": 4,
  "nbformat_minor": 0
}
